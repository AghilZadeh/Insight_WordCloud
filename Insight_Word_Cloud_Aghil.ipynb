{
 "cells": [
  {
   "cell_type": "markdown",
   "metadata": {},
   "source": [
    "# Import the libraries"
   ]
  },
  {
   "cell_type": "code",
   "execution_count": 1,
   "metadata": {},
   "outputs": [
    {
     "name": "stdout",
     "output_type": "stream",
     "text": [
      "[nltk_data] Downloading package punkt to /home/agheal/nltk_data...\n",
      "[nltk_data]   Package punkt is already up-to-date!\n"
     ]
    }
   ],
   "source": [
    "import numpy as np\n",
    "from bs4 import BeautifulSoup\n",
    "import requests\n",
    "import collections\n",
    "import nltk\n",
    "from nltk.tokenize import word_tokenize\n",
    "nltk.download('punkt')\n",
    "from wordcloud import WordCloud, STOPWORDS\n",
    "import matplotlib.pyplot as plt\n",
    "%matplotlib inline"
   ]
  },
  {
   "cell_type": "markdown",
   "metadata": {},
   "source": [
    "# Scrape the website"
   ]
  },
  {
   "cell_type": "code",
   "execution_count": 2,
   "metadata": {
    "collapsed": true
   },
   "outputs": [],
   "source": [
    "# url to scrape\n",
    "url = 'http://insightdatascience.com/fellows'\n",
    "req = requests.get(url)\n",
    "# Create a beautifulsoup object from html content\n",
    "beautiful_soup = BeautifulSoup(req.text,\"html.parser\")"
   ]
  },
  {
   "cell_type": "markdown",
   "metadata": {},
   "source": [
    "# I am going to extract the project titles for each Insight fellow and do some text mining on them. The steps are as follows:"
   ]
  },
  {
   "cell_type": "markdown",
   "metadata": {},
   "source": [
    "## Step 1- Data Assemble"
   ]
  },
  {
   "cell_type": "code",
   "execution_count": 3,
   "metadata": {
    "collapsed": true
   },
   "outputs": [],
   "source": [
    "# First, assemble the data using lists on the website\n",
    "fellows_list = beautiful_soup.findAll('div', class_=\"fellows_list w-dyn-list\")\n",
    "# The project titles will be added to this list\n",
    "projects = []\n",
    "# This loop extracts the project title for each fellow and appends it to the projects list above\n",
    "for item in fellows_list:\n",
    "    fellows = item.findAll('div', class_=\"w-clearfix w-dyn-items w-row\")\n",
    "    fellows = fellows[0].findAll('div', class_='fellow_item w-dyn-item w-col w-col-2')\n",
    "    for f in fellows[:]:\n",
    "        pj = f.find('div', class_=\"tooltip_project\").text\n",
    "        # Convert the prject title to all lowercase\n",
    "        pj = pj.lower()\n",
    "        projects.append(pj)"
   ]
  },
  {
   "cell_type": "markdown",
   "metadata": {},
   "source": [
    "## Step 2- Data Processing"
   ]
  },
  {
   "cell_type": "code",
   "execution_count": 4,
   "metadata": {
    "collapsed": true
   },
   "outputs": [],
   "source": [
    "# Define the stop words you want to filter\n",
    "stop_words = {'ourselves', 'hers', 'between', 'yourself', 'but', 'again', 'there', 'about', 'once', 'during', \n",
    "              'out', 'very', 'having', 'with', 'they', 'own', 'an', 'be', 'some', 'for', 'do', 'its', 'yours', \n",
    "              'such', 'into', 'of', 'most', 'itself', 'other', 'off', 'is', 's', 'am', 'or', 'who', 'as', 'from', \n",
    "              'him', 'each', 'the', 'themselves', 'until', 'below', 'are', 'we','these', 'your', 'his', 'through',\n",
    "              'don', 'nor', 'me', 'were', 'her', 'more', 'himself', 'this', 'down', 'should', 'our', 'their', 'while', \n",
    "              'above', 'both', 'up', 'to', 'ours', 'had', 'she', 'all', 'no', 'when', 'at', 'any', 'before', 'them', \n",
    "              'same', 'and', 'been', 'have', 'in', 'will', 'on', 'does', 'yourselves', 'then', 'that', 'because', \n",
    "              'what', 'over', 'why', 'so', 'can', 'did', 'not', 'now', 'under', 'he', 'you', 'herself', 'has', 'just', \n",
    "              'where', 'too', 'only', 'myself', 'which', 'those', 'i', 'after', 'few', 'whom', 't', 'being', 'if', \n",
    "              'theirs', 'my', 'against', 'a', 'by', 'doing', 'it', 'how', 'further', 'was', 'here', 'than',':','.',',',\n",
    "             '!','?','etc','...','$','\\'','â',\"'s\",'(',')','&',\"'ll\"}\n",
    " \n",
    "# Tokenize your list of strings\n",
    "word_tokens = [word_tokenize(p) for p in projects]\n",
    "\n",
    "\n",
    "# Flatten the list of all strings and put them in one list called all_words\n",
    "def flatten_string_list(A):\n",
    "    rt = []\n",
    "    for i in A:\n",
    "        if isinstance(i,list): rt.extend(flatten_string_list(i))\n",
    "        else: rt.append(i)\n",
    "    return rt\n",
    "all_words = flatten_string_list(word_tokens)\n",
    "\n",
    "\n",
    "# Remove the stop words from all_words\n",
    "filtered_list = []\n",
    "for w in all_words:\n",
    "    if w not in stop_words:\n",
    "        filtered_list.append(w)\n"
   ]
  },
  {
   "cell_type": "markdown",
   "metadata": {},
   "source": [
    "# 3- Data visualization and word cloud"
   ]
  },
  {
   "cell_type": "code",
   "execution_count": 36,
   "metadata": {},
   "outputs": [
    {
     "data": {
      "image/png": "[encoded data removed]",
      "text/plain": [
       "<matplotlib.figure.Figure at 0x7f2aa5325208>"
      ]
     },
     "metadata": {},
     "output_type": "display_data"
    }
   ],
   "source": [
    "# To plot the most common words, we can use the built in module in Python. The WordCloud takes regular expression\n",
    "# as argument, so we need to join all the words in our filtered_list into one single argument.\n",
    "\n",
    "regexp=r\"\\w[\\w' ]+\"\n",
    "cloud = WordCloud(relative_scaling = 1.0,regexp=r\"\\w[\\w' ]+\",width=6000, height=3000).generate(\"+\".join(filtered_list))\n",
    "plt.imshow(cloud)\n",
    "plt.axis(\"off\")\n",
    "#plt.show()\n",
    "plt.savefig('cloud2.png', dpi = 300)"
   ]
  },
  {
   "cell_type": "code",
   "execution_count": null,
   "metadata": {
    "collapsed": true
   },
   "outputs": [],
   "source": []
  }
 ],
 "metadata": {
  "kernelspec": {
   "display_name": "Python 3",
   "language": "python",
   "name": "python3"
  },
  "language_info": {
   "codemirror_mode": {
    "name": "ipython",
    "version": 3
   },
   "file_extension": ".py",
   "mimetype": "text/x-python",
   "name": "python",
   "nbconvert_exporter": "python",
   "pygments_lexer": "ipython3",
   "version": "3.6.3"
  }
 },
 "nbformat": 4,
 "nbformat_minor": 2
}
